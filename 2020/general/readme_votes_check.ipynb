{
 "cells": [
  {
   "cell_type": "code",
   "execution_count": 68,
   "id": "e575e4b4",
   "metadata": {},
   "outputs": [],
   "source": [
    "import pandas as pd\n",
    "import geopandas as gp\n",
    "import numpy as np \n",
    "import os\n",
    "import fiona\n",
    "from statistics import mean, median\n",
    "import string\n",
    "import re\n",
    "from collections import Counter\n",
    "from matplotlib.lines import Line2D"
   ]
  },
  {
   "cell_type": "markdown",
   "id": "116ff797",
   "metadata": {},
   "source": [
    "# Voting Checking"
   ]
  },
  {
   "cell_type": "markdown",
   "id": "17c22448",
   "metadata": {},
   "source": [
    "Did the vote checking visually on each of the notebooks and there are votes adjusted in Monroe and Seminole Counties to match official totals.\n",
    "\n",
    "These was the source: https://results.elections.myflorida.com/Index.asp?ElectionDate=11/3/2020&DATAMODE=  "
   ]
  },
  {
   "cell_type": "markdown",
   "id": "4e3afe15",
   "metadata": {},
   "source": [
    "# README Generator\n",
    "\n",
    "Note: The below code just creates the starting version of the README, it is edited further manually."
   ]
  },
  {
   "cell_type": "code",
   "execution_count": 70,
   "id": "447f2b28",
   "metadata": {},
   "outputs": [],
   "source": [
    "'''Following Docstring Convention: https://www.python.org/dev/peps/pep-0257/'''\n",
    "\n",
    "import pandas as pd\n",
    "import os\n",
    "#THESE SETTINGS ESSENTIAL TO HAVE THE FIELDS TABLE SHOW UP CORRECTLY in the readme\n",
    "pd.set_option('display.max_rows', None)\n",
    "pd.set_option('display.max_columns', None)\n",
    "pd.set_option('display.width', None)\n",
    "\n",
    "'''The functions below support the creation of the final ERJ geodataframe, shapefile export, \n",
    "and readme creation/export.\n",
    "The user must create a fields dictionary to insert into the readme template below.\n",
    "'''\n",
    "\n",
    "def select_cols(df, prefix):\n",
    "    '''select_cols() enables user to select colums by prefix substring,\n",
    "    so for instance can grab all president columns - enables easy\n",
    "    re-ordering for the final erj file\n",
    "    '''\n",
    "    list = []\n",
    "    for col in df:\n",
    "        if prefix in col:\n",
    "            list.append(col)\n",
    "    return list\n",
    "\n",
    "def format_erj_cols(location_desc_cols, election_columns, geo_col):\n",
    "    col_formatted = location_desc_cols + election_columns + geo_col\n",
    "    return col_formatted\n",
    "\n",
    "def create_erj_shp(gdf, shp_name):\n",
    "    '''In cases where separate election files, run once, then run \"gdf.to_file()\" \n",
    "    separately for each file going to the same directory.\n",
    "    '''\n",
    "    os.mkdir('./'+shp_name)\n",
    "    gdf.to_file('./'+shp_name+'/'+shp_name+'.shp')\n",
    "    print(shp_name, 'shapefile created.')\n",
    "\n",
    "def create_fields_table(race_field_header_0, fields_dict_0, \n",
    "                        add_race_field_header_1 = '', fields_dict_1 = {}, \n",
    "                        add_race_field_header_2 = '', fields_dict_2 = {}, \n",
    "                        add_race_field_header_3 = '', fields_dict_3 = {}):\n",
    "    '''Fields table used in readme\n",
    "    race_field_header_0: include asterisks \"***text***\" and label first set of fields\n",
    "    fields_dict_0: the default dictionary for the primary file (statewide)\n",
    "    add_race_field_header_1: include asterisks to draw attention to section - ex: \"***additional_race_file_name_fields***\"\n",
    "    fields_dict_1: additional fields to go under add_race_field_header_1 header\n",
    "    add_race_field_header_2 and _3: same use as add_race_field_header_1 - include as needed\n",
    "    fields_dict_2 and _3: same use as fields_dict_1 - include as needed associated with corresponding add_race_field_header section\n",
    "    '''\n",
    "    fields_table_data = {'Field Name': [''] + list(fields_dict_0.keys()) +\n",
    "                         ['',''] + list(fields_dict_1.keys()) +\n",
    "                         ['',''] + list(fields_dict_2.keys()) +\n",
    "                         ['',''] + list(fields_dict_3.keys()),\n",
    "                         'Description': [race_field_header_0] + list(fields_dict_0.values()) + \n",
    "                         ['',add_race_field_header_1] + list(fields_dict_1.values()) + \n",
    "                         ['',add_race_field_header_2] + list(fields_dict_2.values()) +\n",
    "                         ['',add_race_field_header_3] + list(fields_dict_3.values())}\n",
    "    fields_table = pd.DataFrame(fields_table_data)\n",
    "    return fields_table\n",
    "\n",
    "def erj_readme_template(stateabrv, state, year, election_type, additional_races, retrieval_date, vest_file_link, \n",
    "                        raw_data_source, state_erj_repo, office_codes, \n",
    "                        race_field_header_0, fields_dict_0, add_race_field_header_1 = '', fields_dict_1 = {}, add_race_field_header_2 = '', fields_dict_2 = {}, \n",
    "                        add_race_field_header_3 = '', fields_dict_3 = {},\n",
    "                       additional_notes=' '):\n",
    "    '''erj_readme_template variable explanations:\n",
    "    fields_dict = used to create the fields table for the non-standardized/race fields fields. \n",
    "                Key is the field/value is the field description\n",
    "    stateabrv = two character state abbreviation capitalized, \n",
    "    state = state name, first letter capitalized, \n",
    "    year = election year (XXXX), \n",
    "    election_type = general, primary, special or runoff, \n",
    "    additional_races = the races that RDH added to the original vest file (not in VEST's og file), \n",
    "    retrieval_date = date RDH retrieved VEST file, \n",
    "    vest_file_link = link to dataverse page for VEST's precinct boundary and election results file, \n",
    "    raw_data_source = site description and link, \n",
    "    state_erj_repo = link to erj github repository for given state\n",
    "    office_codes = codes used broken off of field names for easy viewing. \n",
    "        For SU/SL/CON, include ##, so SU## for office code\n",
    "    race_field_header_0: include asterisks \"***text***\" and label first set of fields\n",
    "    fields_dict_0: the default dictionary for the primary file (statewide)\n",
    "    add_race_field_header_1: include asterisks to draw attention to section - ex: \"***additional_race_file_name_fields***\"\n",
    "    fields_dict_1: additional fields to go under add_race_field_header_1 header\n",
    "    add_race_field_header_2 and _3: same use as add_race_field_header_1 - include as needed\n",
    "    fields_dict_2 and _3: same use as fields_dict_1 - include as needed associated with corresponding add_race_field_header section\n",
    "    additional_notes = default set to empty, but fill in with string where applicable.\n",
    "    '''\n",
    "    #Generalized readme text\n",
    "    readme_p1 = '''{year} {stateabrv} {election_type} election results\n",
    "## RDH Date Retrieval\n",
    "{retrieval_date}\n",
    "## Sources\n",
    "The RDH retrieved the VEST {year} {election_type} precinct boundary and election results shapefile from [VEST's Harvard Dataverse]({vest_file_link})\n",
    "The RDH retrieved raw {year} {election_type} election results from {raw_data_source}\n",
    "## Notes on Field Names (adapted from VEST):\n",
    "Columns reporting votes generally follow the pattern: \n",
    "The first character is G for a general election, P for a primary, S for a special, and R for a runoff.\n",
    "Characters 2 and 3 are the year of the election.*\n",
    "Characters 4-6 represent the office type (see list below).\n",
    "Character 7 represents the party of the candidate.\n",
    "Characters 8-10 are the first three letters of the candidate's last name.\n",
    "One example is:\n",
    "G16PREDCLI\n",
    "To fit within the GIS 10 character limit for field names, the naming convention is slightly different for the State Legislature and \n",
    "US House of Representatives. All fields are listed below with definitions.\n",
    "Office Codes Used:\n",
    "{office_codes}\n",
    "## Fields:\n",
    "'''.format(stateabrv= stateabrv, state= state, year=year, election_type=election_type, additional_races=additional_races,retrieval_date=retrieval_date, vest_file_link=vest_file_link, raw_data_source=raw_data_source, state_erj_repo=state_erj_repo, office_codes=office_codes)\n",
    "\n",
    "    fields_table = create_fields_table(race_field_header_0, fields_dict_0, add_race_field_header_1, fields_dict_1, add_race_field_header_2, fields_dict_2, \n",
    "                        add_race_field_header_3, fields_dict_3).to_string(index=False)\n",
    "    readme_p2 = str(fields_table)\n",
    "\n",
    "    readme_p3 = '''\n",
    "## Processing Steps\n",
    "    \n",
    "The RDH joined additional election results to VEST's existing precinct shapefile, including {additional_races} using Python.\n",
    "For more information on the processing completed, visit our [Github repository]({state_erj_repo}) for Election Result Joins (ERJ) for {state}.\n",
    "Where possible, the RDH validated the election results we processed against VEST's election results. For additional races the RDH manually checked state totals. For more information on this comparison, please see our processing on Github ({state_erj_repo}).\n",
    "## Additional Notes\n",
    "{additional_notes}\n",
    "Please contact info@redistrictingdatahub.org for more information.\n",
    "'''.format(stateabrv=stateabrv, state=state, year=year, election_type=election_type, additional_races=additional_races, state_erj_repo=state_erj_repo, office_codes=office_codes, additional_notes = additional_notes)\n",
    "    \n",
    "    full_readme = str(readme_p1)+str(readme_p2)+str(readme_p3)\n",
    "    return full_readme\n",
    "\n",
    "def export_readme(readme_name, state, election_type, full_readme_text):\n",
    "    '''readme_name must include file path to readme within erj folder\n",
    "    ex: \n",
    "    readme_name = './az_gen_20_prec/readme.txt'\n",
    "    '''\n",
    "    with open(readme_name, 'x') as tf:\n",
    "        tf.write(full_readme_text)\n",
    "    print(state, election_type, \" readme moved to folder\")"
   ]
  },
  {
   "cell_type": "code",
   "execution_count": null,
   "id": "9b9da4b6",
   "metadata": {},
   "outputs": [],
   "source": []
  },
  {
   "cell_type": "code",
   "execution_count": 71,
   "id": "f446f6a4",
   "metadata": {},
   "outputs": [],
   "source": [
    "stateabrv = \"FL\"\n",
    "state = \"Florida\"\n",
    "year = \"2020\"\n",
    "election_type = \"general\"\n",
    "additional_races = \"State Supreme Court Justice, Amendments, U.S. House, State House and State Senate\"\n",
    "retrieval_date = \"11/08/2021\\n\"\n",
    "upload_date = \"02/11/2022\\n\" \n",
    "vest_file_link = \"https://dataverse.harvard.edu/file.xhtml?fileId=4938250&version=32.0\"\n",
    "raw_data_source = \"Election results come from the Florida Division of Elections (https://dos.myflorida.com/elections/data-statistics/elections-data/precinct-level-election-results/) and precinct shapefiles from VEST's Florida 2020 file.\\n\" \n",
    "state_erj_repo = \"https://github.com/nonpartisan-redistricting-datahub/erj-fl\"\n",
    "                \n",
    "additional_notes = '''\n",
    "~all files~\n",
    "\n",
    "'''\n"
   ]
  },
  {
   "cell_type": "code",
   "execution_count": 102,
   "id": "0a478b90",
   "metadata": {},
   "outputs": [],
   "source": [
    "import os\n",
    "\n",
    "holder = pd.read_csv(\"./cand_dict.csv\")\n",
    "fields_dict = dict(zip(holder[\"Candidate\"],holder[\"Column\"]))"
   ]
  },
  {
   "cell_type": "code",
   "execution_count": 103,
   "id": "f4129442",
   "metadata": {},
   "outputs": [],
   "source": [
    "office_codes = {}"
   ]
  },
  {
   "cell_type": "code",
   "execution_count": 104,
   "id": "e3a0116a",
   "metadata": {},
   "outputs": [],
   "source": [
    "full_readme = erj_readme_template(fields_dict, stateabrv, state, year, election_type, additional_races, retrieval_date, upload_date, vest_file_link, \n",
    "                        raw_data_source, state_erj_repo, office_codes, additional_notes)"
   ]
  },
  {
   "cell_type": "code",
   "execution_count": 105,
   "id": "1ac9487d",
   "metadata": {},
   "outputs": [],
   "source": [
    "race_field_header_0 = \"\"\n",
    "fields_dict_0 = {}"
   ]
  },
  {
   "cell_type": "code",
   "execution_count": 106,
   "id": "942bc1b8",
   "metadata": {},
   "outputs": [],
   "source": [
    "full_readme = erj_readme_template(stateabrv, state, year, election_type, additional_races, retrieval_date, vest_file_link, \n",
    "                        raw_data_source, state_erj_repo, office_codes, \n",
    "                        race_field_header_0, fields_dict, add_race_field_header_1 = '', fields_dict_1 = {}, add_race_field_header_2 = '', fields_dict_2 = {}, \n",
    "                        add_race_field_header_3 = '', fields_dict_3 = {},\n",
    "                       additional_notes=' ')"
   ]
  },
  {
   "cell_type": "code",
   "execution_count": 108,
   "id": "eeeb2f51",
   "metadata": {},
   "outputs": [
    {
     "name": "stdout",
     "output_type": "stream",
     "text": [
      "Florida general  readme moved to folder\n"
     ]
    }
   ],
   "source": [
    "export_readme(\"./fl_gen_20_prec/README.txt\", \"Florida\", \"general\", full_readme)"
   ]
  },
  {
   "cell_type": "markdown",
   "id": "09cdbb6a",
   "metadata": {},
   "source": [
    "## Zip the final file"
   ]
  },
  {
   "cell_type": "code",
   "execution_count": 109,
   "id": "d02be158",
   "metadata": {},
   "outputs": [],
   "source": [
    "from zipfile import ZipFile\n",
    "\n",
    "# more fine-grained control over ZIP files\n",
    "with ZipFile(\"fl_gen_20_prec.zip\", \"w\") as newzip:\n",
    "    for val in os.listdir(\"./fl_gen_20_prec/\"):\n",
    "        newzip.write(\"./fl_gen_20_prec/\"+val)"
   ]
  },
  {
   "cell_type": "code",
   "execution_count": null,
   "id": "38a6df79",
   "metadata": {},
   "outputs": [],
   "source": []
  }
 ],
 "metadata": {
  "kernelspec": {
   "display_name": "Python 3 (ipykernel)",
   "language": "python",
   "name": "python3"
  },
  "language_info": {
   "codemirror_mode": {
    "name": "ipython",
    "version": 3
   },
   "file_extension": ".py",
   "mimetype": "text/x-python",
   "name": "python",
   "nbconvert_exporter": "python",
   "pygments_lexer": "ipython3",
   "version": "3.8.13"
  }
 },
 "nbformat": 4,
 "nbformat_minor": 5
}
